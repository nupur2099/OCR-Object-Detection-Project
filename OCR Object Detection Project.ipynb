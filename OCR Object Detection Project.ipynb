{
 "cells": [
  {
   "cell_type": "markdown",
   "id": "99dc90d2",
   "metadata": {},
   "source": [
    "## STEP1: IMPORTING LIBRARIES"
   ]
  },
  {
   "cell_type": "code",
   "execution_count": 80,
   "id": "8878faed",
   "metadata": {},
   "outputs": [],
   "source": [
    "import pytesseract\n",
    "import cv2\n",
    "import matplotlib.pyplot as plt\n",
    "from PIL import Image"
   ]
  },
  {
   "cell_type": "markdown",
   "id": "9517779f",
   "metadata": {},
   "source": [
    "## STEP2: LOAD THE IMAGE TO OCR"
   ]
  },
  {
   "cell_type": "code",
   "execution_count": 81,
   "id": "26292b45",
   "metadata": {},
   "outputs": [],
   "source": [
    "#delare the tesseract exectuable path\n",
    "pytesseract.pytesseract.tesseract_cmd = 'C:\\\\Program Files\\\\Tesseract-OCR\\\\tesseract.exe'\n",
    "\n",
    "#load the image and convert it into grayscale\n",
    "img_to_ocr = cv2.imread('C:\\\\Users\\\\lappy garage\\\\OCR\\\\images\\\\Testing\\\\7.jpg')"
   ]
  },
  {
   "cell_type": "markdown",
   "id": "afe2ef38",
   "metadata": {},
   "source": [
    "## STEP3: DO PRE-PROCESSING OF IMAGE"
   ]
  },
  {
   "cell_type": "code",
   "execution_count": 82,
   "id": "0d6814ec",
   "metadata": {},
   "outputs": [],
   "source": [
    "#Step1: Convert into Gray\n",
    "preprocessed_img = cv2.cvtColor(img_to_ocr, cv2.COLOR_BGR2GRAY)\n",
    "#Step2: Do Binary and Thresholding\n",
    "preprocessed_img = cv2.threshold(preprocessed_img,0, 255, cv2.THRESH_BINARY | cv2.THRESH_OTSU)[1] #index 1 is used to avoid error in step 3 \n",
    "\n",
    "#Step3: Median Blur to remove noise in the image\n",
    "preprocessed_img = cv2.medianBlur(preprocessed_img, 3)"
   ]
  },
  {
   "cell_type": "markdown",
   "id": "0d7ec0f5",
   "metadata": {},
   "source": [
    "## STEP4: SAVE AND LOAD IMAGE AS PIL IMAGE"
   ]
  },
  {
   "cell_type": "code",
   "execution_count": 83,
   "id": "914e2be1",
   "metadata": {},
   "outputs": [],
   "source": [
    "#Save the preprocessed image and convert into PIL image\n",
    "cv2.imwrite('img.jpg', preprocessed_img)\n",
    "\n",
    "# load the image as a PIL image\n",
    "preprocessed_img = Image.open('img.jpg')"
   ]
  },
  {
   "cell_type": "markdown",
   "id": "38f7b639",
   "metadata": {},
   "source": [
    "## STEP5: DO OCR OF THE IMAGE"
   ]
  },
  {
   "cell_type": "code",
   "execution_count": 84,
   "id": "28dba7a6",
   "metadata": {},
   "outputs": [
    {
     "name": "stdout",
     "output_type": "stream",
     "text": [
      "On “aye Shes haves:\n",
      "tae Td cHR CAS ludeehs.oa\n",
      "ickaun Homan uum dene\n",
      "vega Gum pia. uolimume |\n",
      "‘ai. sere i\n",
      "hed yori Cig\n",
      "\n",
      "  \n",
      "    \n",
      "\n",
      " \n",
      "\n",
      " \n",
      "\n",
      " \n",
      "\f",
      "\n"
     ]
    },
    {
     "data": {
      "text/plain": [
       "-1"
      ]
     },
     "execution_count": 84,
     "metadata": {},
     "output_type": "execute_result"
    }
   ],
   "source": [
    "# Do OCR Tesseract\n",
    "text_extracted = pytesseract.image_to_string(Image.open('img.jpg'))\n",
    "\n",
    "#Print Extracted Text\n",
    "print(text_extracted)\n",
    "\n",
    "#Display the original image\n",
    "cv2.imshow('Image', img_to_ocr)\n",
    "cv2.waitKey(0)"
   ]
  },
  {
   "cell_type": "markdown",
   "id": "47cb028d",
   "metadata": {},
   "source": [
    "## STEP6: Run the program"
   ]
  },
  {
   "cell_type": "code",
   "execution_count": null,
   "id": "57da0459",
   "metadata": {},
   "outputs": [],
   "source": []
  }
 ],
 "metadata": {
  "kernelspec": {
   "display_name": "Python 3",
   "language": "python",
   "name": "python3"
  },
  "language_info": {
   "codemirror_mode": {
    "name": "ipython",
    "version": 3
   },
   "file_extension": ".py",
   "mimetype": "text/x-python",
   "name": "python",
   "nbconvert_exporter": "python",
   "pygments_lexer": "ipython3",
   "version": "3.8.8"
  }
 },
 "nbformat": 4,
 "nbformat_minor": 5
}
